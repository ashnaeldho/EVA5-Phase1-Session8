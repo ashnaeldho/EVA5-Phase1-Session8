{
 "cells": [
  {
   "cell_type": "markdown",
   "metadata": {
    "colab_type": "text",
    "id": "i_JrwnWT2iTi"
   },
   "source": [
    "# Final S7\n",
    "\n",
    "[Link to Colab file with Logs: Final 5th epoch target reached, lr = 0.007 (tr/te=90.17% / 86.32%) total 15 epochs](https://colab.research.google.com/drive/1ZtYEW30BrNua30dpGtaaBWjRcaLkzGsQ?usp=sharing)"
   ]
  },
  {
   "cell_type": "code",
   "execution_count": 1,
   "metadata": {
    "colab": {
     "base_uri": "https://localhost:8080/",
     "height": 34
    },
    "colab_type": "code",
    "id": "dQwgdVnw2hWE",
    "outputId": "f33fab05-d3bd-4880-9195-5b052ee13abb"
   },
   "outputs": [
    {
     "name": "stdout",
     "output_type": "stream",
     "text": [
      "Mounted at /content/gdrive\n"
     ]
    }
   ],
   "source": [
    "# mount gdrive\n",
    "from google.colab import drive\n",
    "drive.mount('/content/gdrive',force_remount=True)"
   ]
  },
  {
   "cell_type": "code",
   "execution_count": 3,
   "metadata": {
    "colab": {},
    "colab_type": "code",
    "id": "IFz0dB1B2pIm"
   },
   "outputs": [],
   "source": [
    "import sys\n",
    "folder = '/content/gdrive/My Drive/S7'\n",
    "sys.path.append(folder)\n",
    "# sys.path"
   ]
  },
  {
   "cell_type": "code",
   "execution_count": 4,
   "metadata": {
    "colab": {
     "base_uri": "https://localhost:8080/",
     "height": 35
    },
    "colab_type": "code",
    "id": "xJSAJMTg25_r",
    "outputId": "bf6c733a-7a73-4eda-c404-2278d9f9a645"
   },
   "outputs": [
    {
     "data": {
      "application/vnd.google.colaboratory.intrinsic+json": {
       "type": "string"
      },
      "text/plain": [
       "'/content'"
      ]
     },
     "execution_count": 4,
     "metadata": {
      "tags": []
     },
     "output_type": "execute_result"
    }
   ],
   "source": [
    "import os\n",
    "os.getcwd()"
   ]
  },
  {
   "cell_type": "code",
   "execution_count": 5,
   "metadata": {
    "colab": {
     "base_uri": "https://localhost:8080/",
     "height": 34
    },
    "colab_type": "code",
    "id": "6pYHZMzq26xj",
    "outputId": "f61a50ac-f64f-40f3-da4d-f9b734a7b30c"
   },
   "outputs": [
    {
     "name": "stdout",
     "output_type": "stream",
     "text": [
      "/content/gdrive/My Drive/S7\n"
     ]
    }
   ],
   "source": [
    "%cd '/content/gdrive/My Drive/S7'"
   ]
  },
  {
   "cell_type": "code",
   "execution_count": 6,
   "metadata": {
    "colab": {
     "base_uri": "https://localhost:8080/",
     "height": 170
    },
    "colab_type": "code",
    "id": "-9WcU4DOUDRT",
    "outputId": "e543ecd2-e26a-42b8-94f9-06626f424a4e"
   },
   "outputs": [
    {
     "data": {
      "text/plain": [
       "['train_test_dataloader.py',\n",
       " 'CONSTANTS.py',\n",
       " 'README.md',\n",
       " 'requirements.txt',\n",
       " 'config.cfg',\n",
       " 'main.py',\n",
       " 'utility.py',\n",
       " 'models',\n",
       " 'train_test.py']"
      ]
     },
     "execution_count": 6,
     "metadata": {
      "tags": []
     },
     "output_type": "execute_result"
    }
   ],
   "source": [
    "os.listdir()"
   ]
  },
  {
   "cell_type": "code",
   "execution_count": 7,
   "metadata": {
    "colab": {
     "base_uri": "https://localhost:8080/",
     "height": 85
    },
    "colab_type": "code",
    "id": "fcbmS6M8SGJc",
    "outputId": "e00b858f-27f8-4249-a72c-c070738100f6"
   },
   "outputs": [
    {
     "name": "stdout",
     "output_type": "stream",
     "text": [
      "nvcc: NVIDIA (R) Cuda compiler driver\n",
      "Copyright (c) 2005-2019 NVIDIA Corporation\n",
      "Built on Sun_Jul_28_19:07:16_PDT_2019\n",
      "Cuda compilation tools, release 10.1, V10.1.243\n"
     ]
    }
   ],
   "source": [
    "!nvcc --version"
   ]
  },
  {
   "cell_type": "code",
   "execution_count": 8,
   "metadata": {
    "colab": {
     "base_uri": "https://localhost:8080/",
     "height": 357
    },
    "colab_type": "code",
    "id": "oi1yDgZ9SLh8",
    "outputId": "cdb66f5c-4e4b-4dd0-da82-7077f95cc62f"
   },
   "outputs": [
    {
     "name": "stdout",
     "output_type": "stream",
     "text": [
      "Sat Sep 12 22:10:20 2020       \n",
      "+-----------------------------------------------------------------------------+\n",
      "| NVIDIA-SMI 450.66       Driver Version: 418.67       CUDA Version: 10.1     |\n",
      "|-------------------------------+----------------------+----------------------+\n",
      "| GPU  Name        Persistence-M| Bus-Id        Disp.A | Volatile Uncorr. ECC |\n",
      "| Fan  Temp  Perf  Pwr:Usage/Cap|         Memory-Usage | GPU-Util  Compute M. |\n",
      "|                               |                      |               MIG M. |\n",
      "|===============================+======================+======================|\n",
      "|   0  Tesla T4            Off  | 00000000:00:04.0 Off |                    0 |\n",
      "| N/A   57C    P8    11W /  70W |      0MiB / 15079MiB |      0%      Default |\n",
      "|                               |                      |                 ERR! |\n",
      "+-------------------------------+----------------------+----------------------+\n",
      "                                                                               \n",
      "+-----------------------------------------------------------------------------+\n",
      "| Processes:                                                                  |\n",
      "|  GPU   GI   CI        PID   Type   Process name                  GPU Memory |\n",
      "|        ID   ID                                                   Usage      |\n",
      "|=============================================================================|\n",
      "|  No running processes found                                                 |\n",
      "+-----------------------------------------------------------------------------+\n"
     ]
    }
   ],
   "source": [
    "!nvidia-smi"
   ]
  },
  {
   "cell_type": "markdown",
   "metadata": {
    "colab_type": "text",
    "id": "5St3PGFp3Btx"
   },
   "source": [
    "## Utilized configuration file for specifying the values and can be changed by user without modifying the code"
   ]
  },
  {
   "cell_type": "code",
   "execution_count": 9,
   "metadata": {
    "colab": {
     "base_uri": "https://localhost:8080/",
     "height": 255
    },
    "colab_type": "code",
    "id": "edFuoXqe2-Gj",
    "outputId": "4b77a17d-220e-4acf-b695-ae82d0f8d4a6"
   },
   "outputs": [
    {
     "name": "stdout",
     "output_type": "stream",
     "text": [
      "Collecting torchtoolbox\n",
      "\u001b[?25l  Downloading https://files.pythonhosted.org/packages/a2/b3/720399783618f307c6b1cac4d2507602514720df66f26ccb57319a75d9e1/torchtoolbox-0.1.5-py3-none-any.whl (58kB)\n",
      "\r",
      "\u001b[K     |█████▋                          | 10kB 22.3MB/s eta 0:00:01\r",
      "\u001b[K     |███████████▏                    | 20kB 3.0MB/s eta 0:00:01\r",
      "\u001b[K     |████████████████▊               | 30kB 3.6MB/s eta 0:00:01\r",
      "\u001b[K     |██████████████████████▍         | 40kB 3.9MB/s eta 0:00:01\r",
      "\u001b[K     |████████████████████████████    | 51kB 3.6MB/s eta 0:00:01\r",
      "\u001b[K     |████████████████████████████████| 61kB 3.0MB/s \n",
      "\u001b[?25hRequirement already satisfied: lmdb in /usr/local/lib/python3.6/dist-packages (from torchtoolbox->-r requirements.txt (line 1)) (0.99)\n",
      "Requirement already satisfied: numpy in /usr/local/lib/python3.6/dist-packages (from torchtoolbox->-r requirements.txt (line 1)) (1.18.5)\n",
      "Requirement already satisfied: tqdm in /usr/local/lib/python3.6/dist-packages (from torchtoolbox->-r requirements.txt (line 1)) (4.41.1)\n",
      "Requirement already satisfied: pyarrow in /usr/local/lib/python3.6/dist-packages (from torchtoolbox->-r requirements.txt (line 1)) (0.14.1)\n",
      "Requirement already satisfied: six in /usr/local/lib/python3.6/dist-packages (from torchtoolbox->-r requirements.txt (line 1)) (1.15.0)\n",
      "Requirement already satisfied: scikit-learn in /usr/local/lib/python3.6/dist-packages (from torchtoolbox->-r requirements.txt (line 1)) (0.22.2.post1)\n",
      "Requirement already satisfied: opencv-python in /usr/local/lib/python3.6/dist-packages (from torchtoolbox->-r requirements.txt (line 1)) (4.1.2.30)\n",
      "Requirement already satisfied: scipy in /usr/local/lib/python3.6/dist-packages (from torchtoolbox->-r requirements.txt (line 1)) (1.4.1)\n",
      "Requirement already satisfied: joblib>=0.11 in /usr/local/lib/python3.6/dist-packages (from scikit-learn->torchtoolbox->-r requirements.txt (line 1)) (0.16.0)\n",
      "Installing collected packages: torchtoolbox\n",
      "Successfully installed torchtoolbox-0.1.5\n"
     ]
    }
   ],
   "source": [
    "!pip install -r requirements.txt"
   ]
  },
  {
   "cell_type": "code",
   "execution_count": 10,
   "metadata": {
    "colab": {
     "base_uri": "https://localhost:8080/",
     "height": 51
    },
    "colab_type": "code",
    "id": "PIoaDSyxDqSJ",
    "outputId": "ec0eb9a2-0615-4e65-f42e-98e71a17570c"
   },
   "outputs": [
    {
     "name": "stdout",
     "output_type": "stream",
     "text": [
      "\n",
      " CUDA is available\n"
     ]
    }
   ],
   "source": [
    "from main import run_model_run\n",
    "import utility"
   ]
  },
  {
   "cell_type": "code",
   "execution_count": 11,
   "metadata": {
    "colab": {
     "base_uri": "https://localhost:8080/",
     "height": 68
    },
    "colab_type": "code",
    "id": "QiC6PBc5JVpj",
    "outputId": "b21abe66-4f4d-4a49-e0e3-f2977632f263"
   },
   "outputs": [
    {
     "name": "stdout",
     "output_type": "stream",
     "text": [
      "\n",
      " CUDA is available\n",
      "True\n"
     ]
    }
   ],
   "source": [
    "print(utility.check_gpu_availability())"
   ]
  },
  {
   "cell_type": "markdown",
   "metadata": {
    "colab_type": "text",
    "id": "iWMwZTfoQvxw"
   },
   "source": [
    "# Loss becoming `nan` while running here... same model and config in Colab link at top of this file runs fine. Tried multiple times here as well as in separate Colab file, all print statements are not running here either. Will try to resolve this. The separate Colab file runs fine though."
   ]
  },
  {
   "cell_type": "code",
   "execution_count": 12,
   "metadata": {
    "colab": {
     "base_uri": "https://localhost:8080/",
     "height": 1000
    },
    "colab_type": "code",
    "id": "FG28md0mEokU",
    "outputId": "a0e6623e-5fc8-4a22-faf1-6467bf522d5f"
   },
   "outputs": [
    {
     "name": "stdout",
     "output_type": "stream",
     "text": [
      "Files already downloaded and verified\n",
      "Files already downloaded and verified\n",
      "\n",
      " CUDA is available\n",
      "\n",
      " CUDA is available\n",
      "\n",
      "Running for:  L2+BN\n",
      "\n",
      "        Info: The model for CIFAR10 data set session 7.\n",
      "        Target: To achieve more than 80% test accuracy with less than 1 million parameters, mandatory to use depth wise separable convolution, Global Average Pooling.\n",
      "        \n",
      "----------------------------------------------------------------\n",
      "        Layer (type)               Output Shape         Param #\n",
      "================================================================\n",
      "            Conv2d-1           [-1, 16, 32, 32]             432\n",
      "       BatchNorm2d-2           [-1, 16, 32, 32]              32\n",
      "              ReLU-3           [-1, 16, 32, 32]               0\n",
      "            Conv2d-4           [-1, 32, 32, 32]           1,152\n",
      "       BatchNorm2d-5           [-1, 32, 32, 32]              64\n",
      "            Conv2d-6           [-1, 64, 32, 32]           2,304\n",
      "       BatchNorm2d-7           [-1, 64, 32, 32]             128\n",
      "              ReLU-8           [-1, 64, 32, 32]               0\n",
      "            Conv2d-9          [-1, 128, 32, 32]           4,608\n",
      "      BatchNorm2d-10          [-1, 128, 32, 32]             256\n",
      "        MaxPool2d-11          [-1, 128, 16, 16]               0\n",
      "           Conv2d-12          [-1, 256, 14, 14]         294,912\n",
      "           Conv2d-13          [-1, 256, 14, 14]          18,432\n",
      "      BatchNorm2d-14          [-1, 256, 14, 14]             512\n",
      "             ReLU-15          [-1, 256, 14, 14]               0\n",
      "           Conv2d-16          [-1, 256, 14, 14]           2,304\n",
      "           Conv2d-17          [-1, 512, 14, 14]         131,072\n",
      "      BatchNorm2d-18          [-1, 512, 14, 14]           1,024\n",
      "           Conv2d-19            [-1, 256, 7, 7]         131,072\n",
      "      BatchNorm2d-20            [-1, 256, 7, 7]             512\n",
      "             ReLU-21            [-1, 256, 7, 7]               0\n",
      "           Conv2d-22            [-1, 256, 7, 7]           2,304\n",
      "           Conv2d-23            [-1, 256, 7, 7]          65,536\n",
      "             ReLU-24            [-1, 256, 7, 7]               0\n",
      "      BatchNorm2d-25            [-1, 256, 7, 7]             512\n",
      "           Conv2d-26             [-1, 64, 7, 7]          16,384\n",
      "             ReLU-27             [-1, 64, 7, 7]               0\n",
      "      BatchNorm2d-28             [-1, 64, 7, 7]             128\n",
      "           Conv2d-29             [-1, 10, 7, 7]             640\n",
      "             ReLU-30             [-1, 10, 7, 7]               0\n",
      "      BatchNorm2d-31             [-1, 10, 7, 7]              20\n",
      "AdaptiveAvgPool2d-32             [-1, 10, 1, 1]               0\n",
      "================================================================\n",
      "Total params: 674,340\n",
      "Trainable params: 674,340\n",
      "Non-trainable params: 0\n",
      "----------------------------------------------------------------\n",
      "Input size (MB): 0.01\n",
      "Forward/backward pass size (MB): 8.82\n",
      "Params size (MB): 2.57\n",
      "Estimated Total Size (MB): 11.41\n",
      "----------------------------------------------------------------\n",
      "None\n",
      "\n",
      "\n",
      "epoch: 1\n",
      "\n",
      ">>>lr: 0.0072\n",
      "\n",
      "Epoch : 1 Train loss:0.0110\n",
      "\n",
      "Train set: \t\t Accuracy: 26216/50000 (52.432000%)\n",
      "\n",
      "Test set: Average loss: 0.0090, Accuracy: 6066/10000 (60.660000%)\n",
      "\n",
      "\n",
      "\n",
      "epoch: 2\n",
      "\n",
      ">>>lr: 0.0072\n",
      "\n",
      "Epoch : 2 Train loss:nan\n",
      "\n",
      "Train set: \t\t Accuracy: 5067/50000 (10.134000%)\n",
      "\n",
      "Test set: Average loss: nan, Accuracy: 1000/10000 (10.000000%)\n",
      "\n",
      "\n",
      "\n",
      "epoch: 3\n"
     ]
    },
    {
     "ename": "KeyboardInterrupt",
     "evalue": "ignored",
     "output_type": "error",
     "traceback": [
      "\u001b[0;31m---------------------------------------------------------------------------\u001b[0m",
      "\u001b[0;31mKeyboardInterrupt\u001b[0m                         Traceback (most recent call last)",
      "\u001b[0;32m<ipython-input-12-c65ea677f8f6>\u001b[0m in \u001b[0;36m<module>\u001b[0;34m()\u001b[0m\n\u001b[0;32m----> 1\u001b[0;31m \u001b[0mrun_model_run\u001b[0m\u001b[0;34m(\u001b[0m\u001b[0msession\u001b[0m\u001b[0;34m=\u001b[0m\u001b[0;34m\"s7\"\u001b[0m\u001b[0;34m)\u001b[0m\u001b[0;34m\u001b[0m\u001b[0;34m\u001b[0m\u001b[0m\n\u001b[0m",
      "\u001b[0;32m/content/gdrive/My Drive/S7/main.py\u001b[0m in \u001b[0;36mrun_model_run\u001b[0;34m(dataset, session)\u001b[0m\n\u001b[1;32m     45\u001b[0m                                   \u001b[0mscheduler\u001b[0m\u001b[0;34m=\u001b[0m\u001b[0mscheduler\u001b[0m\u001b[0;34m,\u001b[0m\u001b[0;34m\u001b[0m\u001b[0;34m\u001b[0m\u001b[0m\n\u001b[1;32m     46\u001b[0m                                   \u001b[0mtest\u001b[0m\u001b[0;34m=\u001b[0m\u001b[0;32mTrue\u001b[0m\u001b[0;34m,\u001b[0m \u001b[0mtest_loader\u001b[0m\u001b[0;34m=\u001b[0m\u001b[0mtest_loader\u001b[0m\u001b[0;34m,\u001b[0m \u001b[0mtype_\u001b[0m\u001b[0;34m=\u001b[0m\u001b[0mcombo\u001b[0m\u001b[0;34m,\u001b[0m \u001b[0mtracker\u001b[0m\u001b[0;34m=\u001b[0m\u001b[0mtracker\u001b[0m\u001b[0;34m,\u001b[0m\u001b[0;34m\u001b[0m\u001b[0;34m\u001b[0m\u001b[0m\n\u001b[0;32m---> 47\u001b[0;31m                                   loss_fn=loss_fn)\n\u001b[0m\u001b[1;32m     48\u001b[0m \u001b[0;34m\u001b[0m\u001b[0m\n\u001b[1;32m     49\u001b[0m         \u001b[0;32mfor\u001b[0m \u001b[0mplot_type\u001b[0m \u001b[0;32min\u001b[0m \u001b[0mutility\u001b[0m\u001b[0;34m.\u001b[0m\u001b[0mget_config_details\u001b[0m\u001b[0;34m(\u001b[0m\u001b[0;34m)\u001b[0m\u001b[0;34m[\u001b[0m\u001b[0mCONSTANTS\u001b[0m\u001b[0;34m.\u001b[0m\u001b[0mPLOTS\u001b[0m\u001b[0;34m]\u001b[0m\u001b[0;34m[\u001b[0m\u001b[0mCONSTANTS\u001b[0m\u001b[0;34m.\u001b[0m\u001b[0mTO_PLOT\u001b[0m\u001b[0;34m]\u001b[0m\u001b[0;34m.\u001b[0m\u001b[0mstrip\u001b[0m\u001b[0;34m(\u001b[0m\u001b[0;34m)\u001b[0m\u001b[0;34m.\u001b[0m\u001b[0msplit\u001b[0m\u001b[0;34m(\u001b[0m\u001b[0;34m','\u001b[0m\u001b[0;34m)\u001b[0m\u001b[0;34m:\u001b[0m\u001b[0;34m\u001b[0m\u001b[0;34m\u001b[0m\u001b[0m\n",
      "\u001b[0;32m/content/gdrive/My Drive/S7/train_test.py\u001b[0m in \u001b[0;36mtrain_test\u001b[0;34m(model, device, train_loader, optimizer, epochs, scheduler, test, test_loader, type_, tracker, loss_fn, l1_lambda, l2_lambda)\u001b[0m\n\u001b[1;32m     46\u001b[0m \u001b[0;34m\u001b[0m\u001b[0m\n\u001b[1;32m     47\u001b[0m             \u001b[0mpred\u001b[0m \u001b[0;34m=\u001b[0m \u001b[0moutput\u001b[0m\u001b[0;34m.\u001b[0m\u001b[0margmax\u001b[0m\u001b[0;34m(\u001b[0m\u001b[0mdim\u001b[0m\u001b[0;34m=\u001b[0m\u001b[0;36m1\u001b[0m\u001b[0;34m,\u001b[0m \u001b[0mkeepdim\u001b[0m\u001b[0;34m=\u001b[0m\u001b[0;32mTrue\u001b[0m\u001b[0;34m)\u001b[0m  \u001b[0;31m# get the index of the max log-probability\u001b[0m\u001b[0;34m\u001b[0m\u001b[0;34m\u001b[0m\u001b[0m\n\u001b[0;32m---> 48\u001b[0;31m             \u001b[0mcorrect\u001b[0m \u001b[0;34m+=\u001b[0m \u001b[0mpred\u001b[0m\u001b[0;34m.\u001b[0m\u001b[0meq\u001b[0m\u001b[0;34m(\u001b[0m\u001b[0mtarget\u001b[0m\u001b[0;34m.\u001b[0m\u001b[0mview_as\u001b[0m\u001b[0;34m(\u001b[0m\u001b[0mpred\u001b[0m\u001b[0;34m)\u001b[0m\u001b[0;34m)\u001b[0m\u001b[0;34m.\u001b[0m\u001b[0msum\u001b[0m\u001b[0;34m(\u001b[0m\u001b[0;34m)\u001b[0m\u001b[0;34m.\u001b[0m\u001b[0mitem\u001b[0m\u001b[0;34m(\u001b[0m\u001b[0;34m)\u001b[0m\u001b[0;34m\u001b[0m\u001b[0;34m\u001b[0m\u001b[0m\n\u001b[0m\u001b[1;32m     49\u001b[0m             \u001b[0mprocessed\u001b[0m \u001b[0;34m+=\u001b[0m \u001b[0mlen\u001b[0m\u001b[0;34m(\u001b[0m\u001b[0mdata\u001b[0m\u001b[0;34m)\u001b[0m\u001b[0;34m\u001b[0m\u001b[0;34m\u001b[0m\u001b[0m\n\u001b[1;32m     50\u001b[0m \u001b[0;34m\u001b[0m\u001b[0m\n",
      "\u001b[0;31mKeyboardInterrupt\u001b[0m: "
     ]
    }
   ],
   "source": [
    "run_model_run(session=\"s7\")"
   ]
  },
  {
   "cell_type": "code",
   "execution_count": null,
   "metadata": {
    "colab": {},
    "colab_type": "code",
    "id": "sc38ujMaG0AU"
   },
   "outputs": [],
   "source": []
  }
 ],
 "metadata": {
  "accelerator": "GPU",
  "colab": {
   "collapsed_sections": [],
   "name": "S7_Colab import.ipynb",
   "provenance": []
  },
  "kernelspec": {
   "display_name": "Python 3",
   "language": "python",
   "name": "python3"
  },
  "language_info": {
   "codemirror_mode": {
    "name": "ipython",
    "version": 3
   },
   "file_extension": ".py",
   "mimetype": "text/x-python",
   "name": "python",
   "nbconvert_exporter": "python",
   "pygments_lexer": "ipython3",
   "version": "3.6.9"
  }
 },
 "nbformat": 4,
 "nbformat_minor": 1
}
