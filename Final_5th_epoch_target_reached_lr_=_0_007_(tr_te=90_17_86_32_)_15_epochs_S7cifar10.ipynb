{
  "nbformat": 4,
  "nbformat_minor": 0,
  "metadata": {
    "kernelspec": {
      "name": "python3",
      "display_name": "Python 3"
    },
    "language_info": {
      "codemirror_mode": {
        "name": "ipython",
        "version": 3
      },
      "file_extension": ".py",
      "mimetype": "text/x-python",
      "name": "python",
      "nbconvert_exporter": "python",
      "pygments_lexer": "ipython3",
      "version": "3.6.6"
    },
    "colab": {
      "name": "Final 5th epoch target reached_lr = 0.007 (tr/te=90.17% / 86.32%) 15 epochs - S7cifar10.ipynb",
      "provenance": [],
      "collapsed_sections": []
    },
    "accelerator": "GPU",
    "widgets": {
      "application/vnd.jupyter.widget-state+json": {
        "e755609336284b6081d6f2cbb36c3b3d": {
          "model_module": "@jupyter-widgets/controls",
          "model_name": "HBoxModel",
          "state": {
            "_view_name": "HBoxView",
            "_dom_classes": [],
            "_model_name": "HBoxModel",
            "_view_module": "@jupyter-widgets/controls",
            "_model_module_version": "1.5.0",
            "_view_count": null,
            "_view_module_version": "1.5.0",
            "box_style": "",
            "layout": "IPY_MODEL_71309a81729b42c399a8be3bcbbab9cf",
            "_model_module": "@jupyter-widgets/controls",
            "children": [
              "IPY_MODEL_61132e65f00f4e24b8c04e2045bc2c45",
              "IPY_MODEL_283645a930534f47a08962923e8cdc05"
            ]
          }
        },
        "71309a81729b42c399a8be3bcbbab9cf": {
          "model_module": "@jupyter-widgets/base",
          "model_name": "LayoutModel",
          "state": {
            "_view_name": "LayoutView",
            "grid_template_rows": null,
            "right": null,
            "justify_content": null,
            "_view_module": "@jupyter-widgets/base",
            "overflow": null,
            "_model_module_version": "1.2.0",
            "_view_count": null,
            "flex_flow": null,
            "width": null,
            "min_width": null,
            "border": null,
            "align_items": null,
            "bottom": null,
            "_model_module": "@jupyter-widgets/base",
            "top": null,
            "grid_column": null,
            "overflow_y": null,
            "overflow_x": null,
            "grid_auto_flow": null,
            "grid_area": null,
            "grid_template_columns": null,
            "flex": null,
            "_model_name": "LayoutModel",
            "justify_items": null,
            "grid_row": null,
            "max_height": null,
            "align_content": null,
            "visibility": null,
            "align_self": null,
            "height": null,
            "min_height": null,
            "padding": null,
            "grid_auto_rows": null,
            "grid_gap": null,
            "max_width": null,
            "order": null,
            "_view_module_version": "1.2.0",
            "grid_template_areas": null,
            "object_position": null,
            "object_fit": null,
            "grid_auto_columns": null,
            "margin": null,
            "display": null,
            "left": null
          }
        },
        "61132e65f00f4e24b8c04e2045bc2c45": {
          "model_module": "@jupyter-widgets/controls",
          "model_name": "FloatProgressModel",
          "state": {
            "_view_name": "ProgressView",
            "style": "IPY_MODEL_b3e8e3361ea74c60b01815ed9288f753",
            "_dom_classes": [],
            "description": "",
            "_model_name": "FloatProgressModel",
            "bar_style": "success",
            "max": 1,
            "_view_module": "@jupyter-widgets/controls",
            "_model_module_version": "1.5.0",
            "value": 1,
            "_view_count": null,
            "_view_module_version": "1.5.0",
            "orientation": "horizontal",
            "min": 0,
            "description_tooltip": null,
            "_model_module": "@jupyter-widgets/controls",
            "layout": "IPY_MODEL_500cf5a4d45d42d29fe976021c6a92da"
          }
        },
        "283645a930534f47a08962923e8cdc05": {
          "model_module": "@jupyter-widgets/controls",
          "model_name": "HTMLModel",
          "state": {
            "_view_name": "HTMLView",
            "style": "IPY_MODEL_3e4b516283b4401ab1df51564c0f41da",
            "_dom_classes": [],
            "description": "",
            "_model_name": "HTMLModel",
            "placeholder": "​",
            "_view_module": "@jupyter-widgets/controls",
            "_model_module_version": "1.5.0",
            "value": " 170500096/? [00:07&lt;00:00, 23354756.65it/s]",
            "_view_count": null,
            "_view_module_version": "1.5.0",
            "description_tooltip": null,
            "_model_module": "@jupyter-widgets/controls",
            "layout": "IPY_MODEL_8735e2f862894b249e5497796ff3d09e"
          }
        },
        "b3e8e3361ea74c60b01815ed9288f753": {
          "model_module": "@jupyter-widgets/controls",
          "model_name": "ProgressStyleModel",
          "state": {
            "_view_name": "StyleView",
            "_model_name": "ProgressStyleModel",
            "description_width": "initial",
            "_view_module": "@jupyter-widgets/base",
            "_model_module_version": "1.5.0",
            "_view_count": null,
            "_view_module_version": "1.2.0",
            "bar_color": null,
            "_model_module": "@jupyter-widgets/controls"
          }
        },
        "500cf5a4d45d42d29fe976021c6a92da": {
          "model_module": "@jupyter-widgets/base",
          "model_name": "LayoutModel",
          "state": {
            "_view_name": "LayoutView",
            "grid_template_rows": null,
            "right": null,
            "justify_content": null,
            "_view_module": "@jupyter-widgets/base",
            "overflow": null,
            "_model_module_version": "1.2.0",
            "_view_count": null,
            "flex_flow": null,
            "width": null,
            "min_width": null,
            "border": null,
            "align_items": null,
            "bottom": null,
            "_model_module": "@jupyter-widgets/base",
            "top": null,
            "grid_column": null,
            "overflow_y": null,
            "overflow_x": null,
            "grid_auto_flow": null,
            "grid_area": null,
            "grid_template_columns": null,
            "flex": null,
            "_model_name": "LayoutModel",
            "justify_items": null,
            "grid_row": null,
            "max_height": null,
            "align_content": null,
            "visibility": null,
            "align_self": null,
            "height": null,
            "min_height": null,
            "padding": null,
            "grid_auto_rows": null,
            "grid_gap": null,
            "max_width": null,
            "order": null,
            "_view_module_version": "1.2.0",
            "grid_template_areas": null,
            "object_position": null,
            "object_fit": null,
            "grid_auto_columns": null,
            "margin": null,
            "display": null,
            "left": null
          }
        },
        "3e4b516283b4401ab1df51564c0f41da": {
          "model_module": "@jupyter-widgets/controls",
          "model_name": "DescriptionStyleModel",
          "state": {
            "_view_name": "StyleView",
            "_model_name": "DescriptionStyleModel",
            "description_width": "",
            "_view_module": "@jupyter-widgets/base",
            "_model_module_version": "1.5.0",
            "_view_count": null,
            "_view_module_version": "1.2.0",
            "_model_module": "@jupyter-widgets/controls"
          }
        },
        "8735e2f862894b249e5497796ff3d09e": {
          "model_module": "@jupyter-widgets/base",
          "model_name": "LayoutModel",
          "state": {
            "_view_name": "LayoutView",
            "grid_template_rows": null,
            "right": null,
            "justify_content": null,
            "_view_module": "@jupyter-widgets/base",
            "overflow": null,
            "_model_module_version": "1.2.0",
            "_view_count": null,
            "flex_flow": null,
            "width": null,
            "min_width": null,
            "border": null,
            "align_items": null,
            "bottom": null,
            "_model_module": "@jupyter-widgets/base",
            "top": null,
            "grid_column": null,
            "overflow_y": null,
            "overflow_x": null,
            "grid_auto_flow": null,
            "grid_area": null,
            "grid_template_columns": null,
            "flex": null,
            "_model_name": "LayoutModel",
            "justify_items": null,
            "grid_row": null,
            "max_height": null,
            "align_content": null,
            "visibility": null,
            "align_self": null,
            "height": null,
            "min_height": null,
            "padding": null,
            "grid_auto_rows": null,
            "grid_gap": null,
            "max_width": null,
            "order": null,
            "_view_module_version": "1.2.0",
            "grid_template_areas": null,
            "object_position": null,
            "object_fit": null,
            "grid_auto_columns": null,
            "margin": null,
            "display": null,
            "left": null
          }
        }
      }
    }
  },
  "cells": [
    {
      "cell_type": "code",
      "metadata": {
        "id": "QVbdg0z4poCc",
        "colab_type": "code",
        "colab": {}
      },
      "source": [
        "%matplotlib inline\n",
        "import torch\n",
        "import torch.nn as nn\n",
        "import torch.nn.functional as F\n",
        "import torch.optim as optim\n",
        "from torch.optim.lr_scheduler import StepLR\n",
        "import torchvision\n",
        "from torchvision import datasets, transforms\n",
        "import numpy as np\n",
        "from torchsummary import summary\n",
        "from tqdm import tqdm\n",
        "import time"
      ],
      "execution_count": null,
      "outputs": []
    },
    {
      "cell_type": "markdown",
      "metadata": {
        "id": "fPogbueepoCh",
        "colab_type": "text"
      },
      "source": [
        "\n",
        "Training a Classifier\n",
        "=====================\n",
        "\n",
        "This is it. You have seen how to define neural networks, compute loss and make\n",
        "updates to the weights of the network.\n",
        "\n",
        "Now you might be thinking,\n",
        "\n",
        "What about data?\n",
        "----------------\n",
        "\n",
        "Generally, when you have to deal with image, text, audio or video data,\n",
        "you can use standard python packages that load data into a numpy array.\n",
        "Then you can convert this array into a ``torch.*Tensor``.\n",
        "\n",
        "-  For images, packages such as Pillow, OpenCV are useful\n",
        "-  For audio, packages such as scipy and librosa\n",
        "-  For text, either raw Python or Cython based loading, or NLTK and\n",
        "   SpaCy are useful\n",
        "\n",
        "Specifically for vision, we have created a package called\n",
        "``torchvision``, that has data loaders for common datasets such as\n",
        "Imagenet, CIFAR10, MNIST, etc. and data transformers for images, viz.,\n",
        "``torchvision.datasets`` and ``torch.utils.data.DataLoader``.\n",
        "\n",
        "This provides a huge convenience and avoids writing boilerplate code.\n",
        "\n",
        "For this tutorial, we will use the CIFAR10 dataset.\n",
        "It has the classes: ‘airplane’, ‘automobile’, ‘bird’, ‘cat’, ‘deer’,\n",
        "‘dog’, ‘frog’, ‘horse’, ‘ship’, ‘truck’. The images in CIFAR-10 are of\n",
        "size 3x32x32, i.e. 3-channel color images of 32x32 pixels in size.\n",
        "\n",
        ".. figure:: /_static/img/cifar10.png\n",
        "   :alt: cifar10\n",
        "\n",
        "   cifar10\n",
        "\n",
        "\n",
        "Training an image classifier\n",
        "----------------------------\n",
        "\n",
        "We will do the following steps in order:\n",
        "\n",
        "1. Load and normalizing the CIFAR10 training and test datasets using\n",
        "   ``torchvision``\n",
        "2. Define a Convolution Neural Network\n",
        "3. Define a loss function\n",
        "4. Train the network on the training data\n",
        "5. Test the network on the test data\n",
        "\n",
        "1. Loading and normalizing CIFAR10\n",
        "^^^^^^^^^^^^^^^^^^^^^^^^^^^^^^^^^^\n",
        "\n",
        "Using ``torchvision``, it’s extremely easy to load CIFAR10.\n",
        "\n"
      ]
    },
    {
      "cell_type": "markdown",
      "metadata": {
        "id": "5kjt4e2TpoCk",
        "colab_type": "text"
      },
      "source": [
        "The output of torchvision datasets are PILImage images of range [0, 1].\n",
        "We transform them to Tensors of normalized range [-1, 1].\n",
        "\n"
      ]
    },
    {
      "cell_type": "code",
      "metadata": {
        "id": "iZbdC4LIsSPG",
        "colab_type": "code",
        "colab": {}
      },
      "source": [
        "\n",
        "transform = transforms.Compose([transforms.ToTensor()])\n",
        "\n"
      ],
      "execution_count": null,
      "outputs": []
    },
    {
      "cell_type": "code",
      "metadata": {
        "id": "joDMsDhFUtak",
        "colab_type": "code",
        "colab": {
          "base_uri": "https://localhost:8080/",
          "height": 51
        },
        "outputId": "d7955497-96fe-442f-afe6-143e5f4bcf64"
      },
      "source": [
        "train = datasets.CIFAR10('./data', train=True, download=True, transform=transform)\n",
        "test = datasets.CIFAR10('./data', train=False, download=True, transform=transform)"
      ],
      "execution_count": null,
      "outputs": [
        {
          "output_type": "stream",
          "text": [
            "Files already downloaded and verified\n",
            "Files already downloaded and verified\n"
          ],
          "name": "stdout"
        }
      ]
    },
    {
      "cell_type": "code",
      "metadata": {
        "id": "2QopPSFSZoLC",
        "colab_type": "code",
        "colab": {}
      },
      "source": [
        "# classes \n",
        "classes = ('plane', 'car', 'bird', 'cat', 'deer', 'dog', 'frog', 'horse', 'ship', 'truck')"
      ],
      "execution_count": null,
      "outputs": []
    },
    {
      "cell_type": "code",
      "metadata": {
        "id": "RY0B7jGAZRbu",
        "colab_type": "code",
        "colab": {
          "base_uri": "https://localhost:8080/",
          "height": 34
        },
        "outputId": "b406badf-5da6-4c92-d77c-e11fd4c58e67"
      },
      "source": [
        "SEED = 1\n",
        "\n",
        "# CUDA?\n",
        "cuda = torch.cuda.is_available()\n",
        "print(\"CUDA Available?\", cuda)\n",
        "device = \"cuda\" if cuda else \"cpu\"\n",
        "# For reproducibility\n",
        "torch.manual_seed(SEED)\n",
        "\n",
        "if cuda:\n",
        "    torch.cuda.manual_seed(SEED)\n",
        "\n",
        "dataloader_args = dict(shuffle=True, batch_size=4, num_workers=4, pin_memory=True) if cuda else dict(shuffle=True, batch_size=4)\n",
        "\n",
        "# train dataloader\n",
        "train_loader = torch.utils.data.DataLoader(train, **dataloader_args)"
      ],
      "execution_count": null,
      "outputs": [
        {
          "output_type": "stream",
          "text": [
            "CUDA Available? True\n"
          ],
          "name": "stdout"
        }
      ]
    },
    {
      "cell_type": "code",
      "metadata": {
        "id": "daA7bADhpoCo",
        "colab_type": "code",
        "colab": {
          "base_uri": "https://localhost:8080/",
          "height": 155
        },
        "outputId": "79f45ee8-deb6-4621-fe5f-67516a71cc6e"
      },
      "source": [
        "import matplotlib.pyplot as plt\n",
        "import numpy as np\n",
        "\n",
        "# functions to show an image\n",
        "\n",
        "\n",
        "def imshow(img):\n",
        "    # img = img * std + mean     # unnormalize\n",
        "    npimg = img.numpy()\n",
        "    plt.imshow(np.transpose(npimg, (1, 2, 0)))\n",
        "\n",
        "\n",
        "# get some random training images\n",
        "dataiter = iter(train_loader)\n",
        "images, labels = dataiter.next()\n",
        "\n",
        "# show images\n",
        "imshow(torchvision.utils.make_grid(images))\n",
        "# print labels\n",
        "print(' '.join('%5s' % classes[labels[j]] for j in range(4)))"
      ],
      "execution_count": null,
      "outputs": [
        {
          "output_type": "stream",
          "text": [
            "plane   dog  deer  deer\n"
          ],
          "name": "stdout"
        },
        {
          "output_type": "display_data",
          "data": {
            "image/png": "[encoded data removed]",
            "text/plain": [
              "<Figure size 432x288 with 1 Axes>"
            ]
          },
          "metadata": {
            "tags": [],
            "needs_background": "light"
          }
        }
      ]
    },
    {
      "cell_type": "code",
      "metadata": {
        "id": "XF39E0ONccFT",
        "colab_type": "code",
        "colab": {
          "base_uri": "https://localhost:8080/",
          "height": 34
        },
        "outputId": "d465f492-ce1c-4d26-d064-a8c821f70420"
      },
      "source": [
        "print(train.data.shape)"
      ],
      "execution_count": null,
      "outputs": [
        {
          "output_type": "stream",
          "text": [
            "(50000, 32, 32, 3)\n"
          ],
          "name": "stdout"
        }
      ]
    },
    {
      "cell_type": "code",
      "metadata": {
        "id": "_3wMLnltsPwO",
        "colab_type": "code",
        "colab": {}
      },
      "source": [
        "data = iter(train_loader)"
      ],
      "execution_count": null,
      "outputs": []
    },
    {
      "cell_type": "code",
      "metadata": {
        "id": "NMQItDBdsTyN",
        "colab_type": "code",
        "colab": {}
      },
      "source": [
        "data, target = next(data)"
      ],
      "execution_count": null,
      "outputs": []
    },
    {
      "cell_type": "code",
      "metadata": {
        "id": "PhzYTCTMsX2b",
        "colab_type": "code",
        "colab": {
          "base_uri": "https://localhost:8080/",
          "height": 34
        },
        "outputId": "c647529a-a3c1-46ee-d621-0a74f4f8bf56"
      },
      "source": [
        "type(data)\n",
        "# data"
      ],
      "execution_count": null,
      "outputs": [
        {
          "output_type": "execute_result",
          "data": {
            "text/plain": [
              "torch.Tensor"
            ]
          },
          "metadata": {
            "tags": []
          },
          "execution_count": 10
        }
      ]
    },
    {
      "cell_type": "code",
      "metadata": {
        "id": "iax_JgsusYQ0",
        "colab_type": "code",
        "colab": {
          "base_uri": "https://localhost:8080/",
          "height": 34
        },
        "outputId": "a0cb5972-deef-4944-d899-2628b8c91dd2"
      },
      "source": [
        "data.shape"
      ],
      "execution_count": null,
      "outputs": [
        {
          "output_type": "execute_result",
          "data": {
            "text/plain": [
              "torch.Size([4, 3, 32, 32])"
            ]
          },
          "metadata": {
            "tags": []
          },
          "execution_count": 11
        }
      ]
    },
    {
      "cell_type": "code",
      "metadata": {
        "id": "u6Lj1ptivOQU",
        "colab_type": "code",
        "colab": {}
      },
      "source": [
        ""
      ],
      "execution_count": null,
      "outputs": []
    },
    {
      "cell_type": "code",
      "metadata": {
        "id": "Ag3jp_fbvOTi",
        "colab_type": "code",
        "colab": {
          "base_uri": "https://localhost:8080/",
          "height": 51
        },
        "outputId": "e25de8f6-bb1e-48ca-d0de-95dda006741d"
      },
      "source": [
        "m =  np.mean(train.data, axis=(0,1,2))\n",
        "print(\"mean:\",m)\n",
        "s = np.std(train.data, axis=(0,1,2))\n",
        "print(\"std:\", s)"
      ],
      "execution_count": null,
      "outputs": [
        {
          "output_type": "stream",
          "text": [
            "mean: [125.30691805 122.95039414 113.86538318]\n",
            "std: [62.99321928 62.08870764 66.70489964]\n"
          ],
          "name": "stdout"
        }
      ]
    },
    {
      "cell_type": "code",
      "metadata": {
        "id": "R8R0Ro7gaJiX",
        "colab_type": "code",
        "colab": {}
      },
      "source": [
        "# mean = (125.306/255, 122.950/255, 113.865/255,)\n",
        "# std = (62.993/255, 62.088/255, 66.704/255, )"
      ],
      "execution_count": null,
      "outputs": []
    },
    {
      "cell_type": "code",
      "metadata": {
        "id": "C5lkU3NAvSFK",
        "colab_type": "code",
        "colab": {
          "base_uri": "https://localhost:8080/",
          "height": 34
        },
        "outputId": "e09b0537-f141-4426-d096-f99de0b9640b"
      },
      "source": [
        "m = tuple(m/255)\n",
        "m"
      ],
      "execution_count": null,
      "outputs": [
        {
          "output_type": "execute_result",
          "data": {
            "text/plain": [
              "(0.49139967861519607, 0.48215840839460783, 0.44653091444546567)"
            ]
          },
          "metadata": {
            "tags": []
          },
          "execution_count": 14
        }
      ]
    },
    {
      "cell_type": "code",
      "metadata": {
        "id": "ShNnXzCfvSqZ",
        "colab_type": "code",
        "colab": {
          "base_uri": "https://localhost:8080/",
          "height": 34
        },
        "outputId": "8ad63a33-198a-4266-ce9e-7e9479d4ce77"
      },
      "source": [
        "s = tuple(s/255)\n",
        "s"
      ],
      "execution_count": null,
      "outputs": [
        {
          "output_type": "execute_result",
          "data": {
            "text/plain": [
              "(0.24703223246328176, 0.24348512800005648, 0.26158784172796473)"
            ]
          },
          "metadata": {
            "tags": []
          },
          "execution_count": 15
        }
      ]
    },
    {
      "cell_type": "code",
      "metadata": {
        "id": "pENZSYqbvTEQ",
        "colab_type": "code",
        "colab": {
          "base_uri": "https://localhost:8080/",
          "height": 187
        },
        "outputId": "986fcb59-074b-4364-9d62-a2b8e4b508c7"
      },
      "source": [
        "!pip install torchtoolbox\n",
        "from torchtoolbox.transform import Cutout"
      ],
      "execution_count": null,
      "outputs": [
        {
          "output_type": "stream",
          "text": [
            "Requirement already satisfied: torchtoolbox in /usr/local/lib/python3.6/dist-packages (0.1.5)\n",
            "Requirement already satisfied: opencv-python in /usr/local/lib/python3.6/dist-packages (from torchtoolbox) (4.1.2.30)\n",
            "Requirement already satisfied: scikit-learn in /usr/local/lib/python3.6/dist-packages (from torchtoolbox) (0.22.2.post1)\n",
            "Requirement already satisfied: six in /usr/local/lib/python3.6/dist-packages (from torchtoolbox) (1.15.0)\n",
            "Requirement already satisfied: scipy in /usr/local/lib/python3.6/dist-packages (from torchtoolbox) (1.4.1)\n",
            "Requirement already satisfied: numpy in /usr/local/lib/python3.6/dist-packages (from torchtoolbox) (1.18.5)\n",
            "Requirement already satisfied: tqdm in /usr/local/lib/python3.6/dist-packages (from torchtoolbox) (4.41.1)\n",
            "Requirement already satisfied: pyarrow in /usr/local/lib/python3.6/dist-packages (from torchtoolbox) (0.14.1)\n",
            "Requirement already satisfied: lmdb in /usr/local/lib/python3.6/dist-packages (from torchtoolbox) (0.99)\n",
            "Requirement already satisfied: joblib>=0.11 in /usr/local/lib/python3.6/dist-packages (from scikit-learn->torchtoolbox) (0.16.0)\n"
          ],
          "name": "stdout"
        }
      ]
    },
    {
      "cell_type": "code",
      "metadata": {
        "id": "CTdIBzpDckY7",
        "colab_type": "code",
        "colab": {}
      },
      "source": [
        "# Train Phase transformations\n",
        "train_transforms = transforms.Compose([\n",
        "                                      \n",
        "                                      #  transforms.ColorJitter(brightness=0.10, contrast=0.1, saturation=0.10, hue=0.1),\n",
        "                                       transforms.RandomHorizontalFlip(),\n",
        "                                       transforms.RandomCrop(size=32,padding=1),\n",
        "                                       Cutout(p=0.25,scale=(0.02, 0.10)),\n",
        "                                       transforms.ToTensor(),\n",
        "                                       transforms.Normalize(mean=m, std=s)\n",
        "                                       \n",
        "                                       ])\n",
        "\n",
        "# Test Phase transformations\n",
        "test_transforms = transforms.Compose([\n",
        "                                      \n",
        "                                       transforms.ToTensor(),\n",
        "                                       transforms.Normalize(mean=m, std=s)\n",
        "                                       ])\n"
      ],
      "execution_count": null,
      "outputs": []
    },
    {
      "cell_type": "code",
      "metadata": {
        "id": "D8Tjigo2poCl",
        "colab_type": "code",
        "colab": {
          "base_uri": "https://localhost:8080/",
          "height": 100,
          "referenced_widgets": [
            "e755609336284b6081d6f2cbb36c3b3d",
            "71309a81729b42c399a8be3bcbbab9cf",
            "61132e65f00f4e24b8c04e2045bc2c45",
            "283645a930534f47a08962923e8cdc05",
            "b3e8e3361ea74c60b01815ed9288f753",
            "500cf5a4d45d42d29fe976021c6a92da",
            "3e4b516283b4401ab1df51564c0f41da",
            "8735e2f862894b249e5497796ff3d09e"
          ]
        },
        "outputId": "a6ca7001-5bbc-472a-ac5b-dcb16614109c"
      },
      "source": [
        "trainset = torchvision.datasets.CIFAR10(root='../cifar10_data', train=True,\n",
        "                                        download=True, transform=train_transforms)\n",
        "\n",
        "\n",
        "testset = torchvision.datasets.CIFAR10(root='../cifar10_data', train=False,\n",
        "                                       download=True, transform=test_transforms)\n",
        "\n"
      ],
      "execution_count": null,
      "outputs": [
        {
          "output_type": "stream",
          "text": [
            "Downloading https://www.cs.toronto.edu/~kriz/cifar-10-python.tar.gz to ../cifar10_data/cifar-10-python.tar.gz\n"
          ],
          "name": "stdout"
        },
        {
          "output_type": "display_data",
          "data": {
            "application/vnd.jupyter.widget-view+json": {
              "model_id": "e755609336284b6081d6f2cbb36c3b3d",
              "version_minor": 0,
              "version_major": 2
            },
            "text/plain": [
              "HBox(children=(FloatProgress(value=1.0, bar_style='info', max=1.0), HTML(value='')))"
            ]
          },
          "metadata": {
            "tags": []
          }
        },
        {
          "output_type": "stream",
          "text": [
            "Extracting ../cifar10_data/cifar-10-python.tar.gz to ../cifar10_data\n",
            "Files already downloaded and verified\n"
          ],
          "name": "stdout"
        }
      ]
    },
    {
      "cell_type": "code",
      "metadata": {
        "id": "9lCIbOpBhai5",
        "colab_type": "code",
        "colab": {
          "base_uri": "https://localhost:8080/",
          "height": 34
        },
        "outputId": "6b594135-55a9-4f48-f07b-4759d6db2e0f"
      },
      "source": [
        "SEED = 101\n",
        "\n",
        "cuda = torch.cuda.is_available()\n",
        "print(\"CUDA Available?\", cuda)\n",
        "\n",
        "if cuda:\n",
        "    torch.cuda.manual_seed(SEED)\n",
        "\n",
        "# dataloader arguments\n",
        "dataloader_args = dict(shuffle=True, batch_size=32, num_workers=2, pin_memory=True) if cuda else dict(shuffle=True, batch_size=4)\n"
      ],
      "execution_count": null,
      "outputs": [
        {
          "output_type": "stream",
          "text": [
            "CUDA Available? True\n"
          ],
          "name": "stdout"
        }
      ]
    },
    {
      "cell_type": "code",
      "metadata": {
        "id": "PnYaVpwfdoO6",
        "colab_type": "code",
        "colab": {}
      },
      "source": [
        "trainloader = torch.utils.data.DataLoader(trainset, **dataloader_args)\n",
        "\n",
        "testloader = torch.utils.data.DataLoader(testset, **dataloader_args)"
      ],
      "execution_count": null,
      "outputs": []
    },
    {
      "cell_type": "code",
      "metadata": {
        "id": "0jjLwLLQpoCr",
        "colab_type": "code",
        "colab": {}
      },
      "source": [
        "# class Net(nn.Module):\n",
        "#     def __init__(self):\n",
        "#         super(Net, self).__init__()\n",
        "\n",
        "#         self.conv_block_1 = nn.Sequential(\n",
        "#             nn.Conv2d(3, 16, kernel_size=3, padding=1, bias=False),\n",
        "#             nn.BatchNorm2d(16),\n",
        "#             nn.ReLU(),\n",
        "#             nn.Conv2d(16, 32, kernel_size=3, padding=1, bias=False),\n",
        "#             nn.BatchNorm2d(32))\n",
        "        \n",
        "#         self.conv_block_2 = nn.Sequential(\n",
        "#             nn.Conv2d(32, 64, kernel_size=3, padding=1, bias=False),\n",
        "#             nn.BatchNorm2d(64),\n",
        "#             nn.ReLU(),\n",
        "#             nn.Conv2d(64, 128, kernel_size=3, padding=1, bias=False),\n",
        "#             nn.BatchNorm2d(128))\n",
        "        \n",
        "#         self.pool = nn.MaxPool2d(2, 2)\n",
        "\n",
        "#         self.conv_block_3 = nn.Sequential(\n",
        "#             nn.Conv2d(128, 256, kernel_size=3, padding=1, bias=False, dilation=2),\n",
        "#             nn.BatchNorm2d(256),\n",
        "#             nn.ReLU(),\n",
        "#             nn.Conv2d(256, 256, kernel_size=3, groups=256, padding=0, bias=False),\n",
        "#             nn.Conv2d(256, 512, kernel_size=1, padding=0, bias=False),\n",
        "#             nn.BatchNorm2d(512))\n",
        "        \n",
        "#         self.conv_block_4 = nn.Sequential(\n",
        "#             nn.Conv2d(512, 256, kernel_size=1, padding=0, bias=False,),\n",
        "#             nn.BatchNorm2d(256),\n",
        "#             nn.ReLU(),\n",
        "#             nn.Conv2d(256, 256, kernel_size=3, groups=256, padding=0, bias=False),\n",
        "#             nn.Conv2d(256, 256, 1, bias=False),\n",
        "#             nn.ReLU(),\n",
        "#             nn.BatchNorm2d(256),\n",
        "#             nn.Conv2d(256, 64, 1, bias=False),\n",
        "#             nn.ReLU(),\n",
        "#             nn.BatchNorm2d(64),\n",
        "#             nn.Conv2d(64, 64, kernel_size=3, groups=64, padding=0, bias=False),\n",
        "#             nn.Conv2d(64, 10, 1, bias=False),\n",
        "#             nn.ReLU(),\n",
        "#             nn.BatchNorm2d(10)\n",
        "#             )\n",
        "        \n",
        "#         self.gap = nn.AdaptiveAvgPool2d(1)\n",
        "        \n",
        "        \n",
        "\n",
        "#     def forward(self, x):\n",
        "#         x = self.conv_block_1(x)\n",
        "#         x = self.conv_block_2(x) \n",
        "#         x = self.pool(x) \n",
        "#         x = self.conv_block_3(x) \n",
        "#         # x = self.pool(x) \n",
        "#         x = self.conv_block_4(x)  \n",
        "\n",
        "#         x = self.gap(x)\n",
        "\n",
        "#         x = x.view(-1, 10)\n",
        "      \n",
        "#         return x\n",
        "\n"
      ],
      "execution_count": null,
      "outputs": []
    },
    {
      "cell_type": "code",
      "metadata": {
        "id": "eyaOyrNyc0pV",
        "colab_type": "code",
        "colab": {}
      },
      "source": [
        "# model = Net().to(device)"
      ],
      "execution_count": null,
      "outputs": []
    },
    {
      "cell_type": "code",
      "metadata": {
        "id": "hMbRXq47dKrO",
        "colab_type": "code",
        "colab": {}
      },
      "source": [
        "# summary(model, input_size=(3, 32, 32))"
      ],
      "execution_count": null,
      "outputs": []
    },
    {
      "cell_type": "code",
      "metadata": {
        "id": "CFs5yBD-knJ0",
        "colab_type": "code",
        "colab": {
          "base_uri": "https://localhost:8080/",
          "height": 34
        },
        "outputId": "43dffaf8-91c0-4822-fad8-1e1864744144"
      },
      "source": [
        "class Net2(nn.Module):\n",
        "    def __init__(self):\n",
        "        super(Net2, self).__init__()\n",
        "\n",
        "        self.conv_block_1 = nn.Sequential(\n",
        "            nn.Conv2d(3, 16, kernel_size=3, padding=1, bias=False),\n",
        "            nn.BatchNorm2d(16),\n",
        "            nn.ReLU(),\n",
        "            nn.Conv2d(16, 32, kernel_size=3, padding=1, bias=False, groups=4),\n",
        "            nn.BatchNorm2d(32))\n",
        "        \n",
        "        self.conv_block_2 = nn.Sequential(\n",
        "            nn.Conv2d(32, 64, kernel_size=3, padding=1, bias=False, groups=8),\n",
        "            nn.BatchNorm2d(64),\n",
        "            nn.ReLU(),\n",
        "            nn.Conv2d(64, 128, kernel_size=3, padding=1, bias=False, groups=16),\n",
        "            nn.BatchNorm2d(128))\n",
        "        \n",
        "        self.pool = nn.MaxPool2d(2, 2)\n",
        "\n",
        "        self.conv_block_3 = nn.Sequential(\n",
        "            nn.Conv2d(128, 256, kernel_size=3, padding=1, bias=False, dilation=2),\n",
        "            nn.Conv2d(256, 256, kernel_size=3, padding=1, bias=False, groups=32),\n",
        "            nn.BatchNorm2d(256),\n",
        "            nn.ReLU(),\n",
        "            nn.Conv2d(256, 256, kernel_size=3, groups=256, padding=1, bias=False),\n",
        "            nn.Conv2d(256, 512, kernel_size=1, padding=0, bias=False),\n",
        "            nn.BatchNorm2d(512))\n",
        "        \n",
        "        self.conv_block_4 = nn.Sequential(\n",
        "            nn.Conv2d(512, 256, kernel_size=1, padding=0, bias=False, stride=2),\n",
        "            nn.BatchNorm2d(256),\n",
        "            nn.ReLU(),\n",
        "            nn.Conv2d(256, 256, kernel_size=3, groups=256, padding=1, bias=False),\n",
        "            nn.Conv2d(256, 256, kernel_size=1, padding=0, bias=False),\n",
        "            nn.ReLU(),\n",
        "            nn.BatchNorm2d(256),\n",
        "            nn.Conv2d(256, 64, 1, bias=False),\n",
        "            nn.ReLU(),\n",
        "            nn.BatchNorm2d(64),\n",
        "            # nn.Conv2d(64, 64, kernel_size=3, groups=64, padding=0, bias=False),\n",
        "            nn.Conv2d(64, 10, 1, bias=False),\n",
        "            nn.ReLU(),\n",
        "            nn.BatchNorm2d(10)\n",
        "            )\n",
        "        \n",
        "        self.gap = nn.AdaptiveAvgPool2d(1)\n",
        "        \n",
        "        \n",
        "\n",
        "    def forward(self, x):\n",
        "        \n",
        "        x = self.conv_block_1(x)\n",
        "        x = self.conv_block_2(x) \n",
        "        x = self.pool(x) \n",
        "        x = self.conv_block_3(x) \n",
        "        # x = self.pool(x) \n",
        "        x = self.conv_block_4(x)  \n",
        "\n",
        "        x = self.gap(x)\n",
        "\n",
        "        x = x.view(-1, 10)\n",
        "      \n",
        "        return x\n",
        "\n"
      ],
      "execution_count": null,
      "outputs": [
        {
          "output_type": "stream",
          "text": [
            "\n"
          ],
          "name": "stdout"
        }
      ]
    },
    {
      "cell_type": "code",
      "metadata": {
        "id": "AwosmxfFb4vk",
        "colab_type": "code",
        "colab": {
          "base_uri": "https://localhost:8080/",
          "height": 34
        },
        "outputId": "6d42aca0-4481-4890-de5a-6b7b53e642eb"
      },
      "source": [
        "from copy import deepcopy\n",
        "\n",
        "d = {\n",
        "        'misclassified': [],\n",
        "        'train_losses': [],\n",
        "        'test_losses': [],\n",
        "        'train_accuracy': [],\n",
        "        'test_accuracy': []\n",
        "    }\n",
        "\n",
        "total = ['L2+BN'] # , 'GBN', 'L2+GBN'\n",
        "tracker = {}\n",
        "for item in total:\n",
        "    tracker[item] = deepcopy(d)\n",
        "\n",
        "# tracker['L1+BN']['test_accuracy'].append(100)\n",
        "for k, v in tracker.items():\n",
        "    print(k, \">>>>\", v)"
      ],
      "execution_count": null,
      "outputs": [
        {
          "output_type": "stream",
          "text": [
            "L2+BN >>>> {'misclassified': [], 'train_losses': [], 'test_losses': [], 'train_accuracy': [], 'test_accuracy': []}\n"
          ],
          "name": "stdout"
        }
      ]
    },
    {
      "cell_type": "code",
      "metadata": {
        "id": "aDYwxf6ldVAH",
        "colab_type": "code",
        "colab": {}
      },
      "source": [
        "model2 = Net2().to(device)"
      ],
      "execution_count": null,
      "outputs": []
    },
    {
      "cell_type": "code",
      "metadata": {
        "id": "dXG4-9CwXFXh",
        "colab_type": "code",
        "colab": {
          "base_uri": "https://localhost:8080/",
          "height": 782
        },
        "outputId": "a5d5c85e-c111-4418-b792-6cf75ed9df69"
      },
      "source": [
        "summary(model2, input_size=(3, 32, 32))"
      ],
      "execution_count": null,
      "outputs": [
        {
          "output_type": "stream",
          "text": [
            "----------------------------------------------------------------\n",
            "        Layer (type)               Output Shape         Param #\n",
            "================================================================\n",
            "            Conv2d-1           [-1, 16, 32, 32]             432\n",
            "       BatchNorm2d-2           [-1, 16, 32, 32]              32\n",
            "              ReLU-3           [-1, 16, 32, 32]               0\n",
            "            Conv2d-4           [-1, 32, 32, 32]           1,152\n",
            "       BatchNorm2d-5           [-1, 32, 32, 32]              64\n",
            "            Conv2d-6           [-1, 64, 32, 32]           2,304\n",
            "       BatchNorm2d-7           [-1, 64, 32, 32]             128\n",
            "              ReLU-8           [-1, 64, 32, 32]               0\n",
            "            Conv2d-9          [-1, 128, 32, 32]           4,608\n",
            "      BatchNorm2d-10          [-1, 128, 32, 32]             256\n",
            "        MaxPool2d-11          [-1, 128, 16, 16]               0\n",
            "           Conv2d-12          [-1, 256, 14, 14]         294,912\n",
            "           Conv2d-13          [-1, 256, 14, 14]          18,432\n",
            "      BatchNorm2d-14          [-1, 256, 14, 14]             512\n",
            "             ReLU-15          [-1, 256, 14, 14]               0\n",
            "           Conv2d-16          [-1, 256, 14, 14]           2,304\n",
            "           Conv2d-17          [-1, 512, 14, 14]         131,072\n",
            "      BatchNorm2d-18          [-1, 512, 14, 14]           1,024\n",
            "           Conv2d-19            [-1, 256, 7, 7]         131,072\n",
            "      BatchNorm2d-20            [-1, 256, 7, 7]             512\n",
            "             ReLU-21            [-1, 256, 7, 7]               0\n",
            "           Conv2d-22            [-1, 256, 7, 7]           2,304\n",
            "           Conv2d-23            [-1, 256, 7, 7]          65,536\n",
            "             ReLU-24            [-1, 256, 7, 7]               0\n",
            "      BatchNorm2d-25            [-1, 256, 7, 7]             512\n",
            "           Conv2d-26             [-1, 64, 7, 7]          16,384\n",
            "             ReLU-27             [-1, 64, 7, 7]               0\n",
            "      BatchNorm2d-28             [-1, 64, 7, 7]             128\n",
            "           Conv2d-29             [-1, 10, 7, 7]             640\n",
            "             ReLU-30             [-1, 10, 7, 7]               0\n",
            "      BatchNorm2d-31             [-1, 10, 7, 7]              20\n",
            "AdaptiveAvgPool2d-32             [-1, 10, 1, 1]               0\n",
            "================================================================\n",
            "Total params: 674,340\n",
            "Trainable params: 674,340\n",
            "Non-trainable params: 0\n",
            "----------------------------------------------------------------\n",
            "Input size (MB): 0.01\n",
            "Forward/backward pass size (MB): 8.82\n",
            "Params size (MB): 2.57\n",
            "Estimated Total Size (MB): 11.41\n",
            "----------------------------------------------------------------\n"
          ],
          "name": "stdout"
        }
      ]
    },
    {
      "cell_type": "code",
      "metadata": {
        "id": "kkuRfo1IpoC3",
        "colab_type": "code",
        "colab": {}
      },
      "source": [
        "# for epoch in range(20):  # loop over the dataset multiple times\n",
        "#     running_loss = 0.0\n",
        "#     for i, data in enumerate(trainloader, 0):\n",
        "#         # get the inputs\n",
        "#         inputs, labels = data\n",
        "#         inputs, labels = inputs.to(device), labels.to(device)\n",
        "\n",
        "#         # zero the parameter gradients\n",
        "#         optimizer.zero_grad()\n",
        "\n",
        "#         # forward + backward + optimize\n",
        "#         outputs = model2(inputs)\n",
        "#         loss = criterion(outputs, labels)\n",
        "#         loss.backward()\n",
        "#         optimizer.step()\n",
        "\n",
        "#         # print statistics\n",
        "#         running_loss += loss.item()\n",
        "#         if i % 500 == 0:    # print every 500 mini-batches and at 0th batch as well\n",
        "#             print('[%d, %5d] loss: %.3f' %\n",
        "#                   (epoch + 1, i + 1, running_loss / 500))\n",
        "#             running_loss = 0.0\n",
        "\n",
        "# print('Finished Training')"
      ],
      "execution_count": null,
      "outputs": []
    },
    {
      "cell_type": "code",
      "metadata": {
        "id": "0g8q89VueRej",
        "colab_type": "code",
        "colab": {}
      },
      "source": [
        "criterion = nn.CrossEntropyLoss()"
      ],
      "execution_count": null,
      "outputs": []
    },
    {
      "cell_type": "code",
      "metadata": {
        "id": "i0pp8nRzaO-5",
        "colab_type": "code",
        "colab": {}
      },
      "source": [
        "def train_test(model, device, train_loader, optimizer, epochs, scheduler, test, test_loader, type_, tracker, l1_lambda=None, l2_lambda=None):\n",
        "    if test and not test_loader:\n",
        "        raise ValueError(\"`test`= True but `test_loader` not provided\")\n",
        "\n",
        "    \n",
        "    model.train()\n",
        "\n",
        "    for epoch in range(epochs):\n",
        "        l1 = torch.tensor(0, requires_grad=False)\n",
        "        correct = 0\n",
        "        processed = 0\n",
        "        train_loss = 0\n",
        "\n",
        "        print(f\"\\n\\nepoch: {epoch + 1}\")\n",
        "        # pbar = tqdm(train_loader)\n",
        "\n",
        "        if \"l2\" in type_.lower():\n",
        "            optimizer.param_groups[0]['weight_decay'] = l2_lambda\n",
        "            \n",
        "        for i, data in enumerate(train_loader, 0):\n",
        "            inputs, target = data\n",
        "            inputs, target = inputs.to(device), target.to(device)\n",
        "\n",
        "            optimizer.zero_grad()  # set the gradients top zero to avoid accumulatin them over the epochs\n",
        "\n",
        "            output = model(inputs)  # model's output\n",
        "\n",
        "            loss = criterion(output, target)\n",
        "\n",
        "            # if \"l1\" in type_.lower():\n",
        "            #     for param in model.parameters():\n",
        "            #         l1 = l1 + param.abs().sum()\n",
        "            #     loss = loss + l1_lambda * l1.item()\n",
        "\n",
        "            loss.backward()\n",
        "            optimizer.step()\n",
        "\n",
        "            pred = output.argmax(dim=1, keepdim=True)  # get the index of the max log-probability\n",
        "            correct += pred.eq(target.view_as(pred)).sum().item()\n",
        "            processed += len(data)\n",
        "\n",
        "            train_loss += loss.item()\n",
        "            if i%500 == 0:\n",
        "              print(f'epoch:{epoch+1}.... batch:{i+1}...loss:{train_loss:.4f}')\n",
        "\n",
        "        train_loss /= len(train_loader.dataset)\n",
        "        acc = 100 * correct / processed\n",
        "        tracker[type_]['train_losses'].append(train_loss)\n",
        "        tracker[type_]['train_accuracy'].append(acc)\n",
        "\n",
        "        # pbar.set_description(desc=f'loss={loss.item()} batch_id={batch_idx}')\n",
        "        if scheduler:\n",
        "            print(f'\\n>>>lr: {scheduler.get_last_lr()[0]}')\n",
        "            scheduler.step()\n",
        "        print('\\nTrain set: \\t\\t Accuracy: {}/{} ({:.6f}%)'.format(correct, len(train_loader.dataset),\n",
        "                                                                   100.0 * correct / len(train_loader.dataset)))\n",
        "\n",
        "        if test:\n",
        "            model.eval()\n",
        "            test_loss = 0\n",
        "            correct = 0\n",
        "            with torch.no_grad():\n",
        "                for data, target in test_loader:\n",
        "                    data, target = data.to(device), target.to(device)\n",
        "                    output = model(data)\n",
        "                    test_loss +=criterion(output, target).sum().item()  # sum up batch loss\n",
        "                    pred = output.argmax(dim=1, keepdim=True)  # get the index of the max log-probability\n",
        "                    correct += pred.eq(target.view_as(pred)).sum().item()\n",
        "                    for i in range(len(pred)):\n",
        "                        if pred[i] != target[i]:\n",
        "                            tracker[type_]['misclassified'].append((data[i], pred[i], target[i]))\n",
        "\n",
        "            test_loss /= len(test_loader.dataset)\n",
        "            t_acc = 100.0 * correct / len(test_loader.dataset)\n",
        "            tracker[type_]['test_losses'].append(test_loss)\n",
        "            tracker[type_]['test_accuracy'].append(t_acc)\n",
        "\n",
        "            print('\\nTest set: Average loss: {:.4f}, Accuracy: {}/{} ({:.6f}%)\\n'.format(\n",
        "                test_loss, correct, len(test_loader.dataset), t_acc))"
      ],
      "execution_count": null,
      "outputs": []
    },
    {
      "cell_type": "markdown",
      "metadata": {
        "id": "RTCnhHRU2Hd5",
        "colab_type": "text"
      },
      "source": [
        "## >step changed to 4 for scheduler, l2 seems pretty high in comparison to the code reaching 80% in 6th epoch(l2=2e-3) -> to reduce l2 in next run to 3e-3 from 5e-3\n",
        "\n",
        "## >step changed to 3, gamma=0.579, l2=2.5e-3 from step=4, gamma=0.379, l2=3e-3\n",
        "\n",
        "## >include image augmentation next: weight decay decreased:l2=8e-4 and step=3, gamma=0.379\n",
        "                                      \n",
        "      >transforms.RandomHorizontalFlip()\n",
        "      >transforms.RandomCrop(size=32,padding=1)\n",
        "                                     \n",
        "## >add cutout next, using torchtoolbox --> Regularization effect increased as the difference between the accuracies decreased and train acc. reaches 80% in more epochs\n",
        "\n",
        "## >next try to increase lr or change the way it decreases --> best result so far with lr=0.007\n",
        "\n",
        "## > lr=0.009 gave tr=90.11 %, te= 86.83%, diff of 3.28%"
      ]
    },
    {
      "cell_type": "code",
      "metadata": {
        "id": "LTqKUZa9a1DZ",
        "colab_type": "code",
        "colab": {
          "base_uri": "https://localhost:8080/",
          "height": 1000
        },
        "outputId": "5bf89114-8fd8-4475-9e1c-8d7bcfdc7278"
      },
      "source": [
        "l1 = None\n",
        "l2 = 8e-4\n",
        "for combo in total:\n",
        "  start = time.perf_counter()\n",
        "  model2 = Net2().to(device)\n",
        "\n",
        "  optimizer = optim.SGD(model2.parameters(), lr=0.007, momentum=0.9, nesterov=True)\n",
        "  scheduler = StepLR(optimizer=optimizer, step_size=2, gamma=0.579)\n",
        "\n",
        "  train_test(model2, device, trainloader, optimizer, epochs=15, scheduler=scheduler, test=True, test_loader=testloader,\n",
        "            type_=combo, tracker=tracker, l1_lambda=l1, l2_lambda=l2)\n",
        "  end = time.perf_counter()\n",
        "  print(f\"\\n\\nTime taken for:{combo} = {end-start:.3f}\")"
      ],
      "execution_count": null,
      "outputs": [
        {
          "output_type": "stream",
          "text": [
            "\n",
            "\n",
            "epoch: 1\n",
            "epoch:1.... batch:1...loss:2.2917\n",
            "epoch:1.... batch:501...loss:789.5587\n",
            "epoch:1.... batch:1001...loss:1405.4569\n",
            "epoch:1.... batch:1501...loss:1940.3502\n",
            "\n",
            ">>>lr: 0.007\n",
            "\n",
            "Train set: \t\t Accuracy: 27852/50000 (55.704000%)\n",
            "\n",
            "Test set: Average loss: 0.0306, Accuracy: 6628/10000 (66.280000%)\n",
            "\n",
            "\n",
            "\n",
            "epoch: 2\n",
            "epoch:2.... batch:1...loss:0.5845\n",
            "epoch:2.... batch:501...loss:514.4419\n",
            "epoch:2.... batch:1001...loss:965.4503\n",
            "epoch:2.... batch:1501...loss:1380.2340\n",
            "\n",
            ">>>lr: 0.007\n",
            "\n",
            "Train set: \t\t Accuracy: 34036/50000 (68.072000%)\n",
            "\n",
            "Test set: Average loss: 0.0233, Accuracy: 7412/10000 (74.120000%)\n",
            "\n",
            "\n",
            "\n",
            "epoch: 3\n",
            "epoch:3.... batch:1...loss:0.6107\n",
            "epoch:3.... batch:501...loss:340.7302\n",
            "epoch:3.... batch:1001...loss:673.3126\n",
            "epoch:3.... batch:1501...loss:1002.6483\n",
            "\n",
            ">>>lr: 0.004053\n",
            "\n",
            "Train set: \t\t Accuracy: 38338/50000 (76.676000%)\n",
            "\n",
            "Test set: Average loss: 0.0215, Accuracy: 7606/10000 (76.060000%)\n",
            "\n",
            "\n",
            "\n",
            "epoch: 4\n",
            "epoch:4.... batch:1...loss:0.2981\n",
            "epoch:4.... batch:501...loss:300.5056\n",
            "epoch:4.... batch:1001...loss:601.5072\n",
            "epoch:4.... batch:1501...loss:900.8168\n",
            "\n",
            ">>>lr: 0.004053\n",
            "\n",
            "Train set: \t\t Accuracy: 39533/50000 (79.066000%)\n",
            "\n",
            "Test set: Average loss: 0.0181, Accuracy: 7991/10000 (79.910000%)\n",
            "\n",
            "\n",
            "\n",
            "epoch: 5\n",
            "epoch:5.... batch:1...loss:0.6531\n",
            "epoch:5.... batch:501...loss:260.8389\n",
            "epoch:5.... batch:1001...loss:515.8227\n",
            "epoch:5.... batch:1501...loss:766.0561\n",
            "\n",
            ">>>lr: 0.002346687\n",
            "\n",
            "Train set: \t\t Accuracy: 41192/50000 (82.384000%)\n",
            "\n",
            "Test set: Average loss: 0.0160, Accuracy: 8228/10000 (82.280000%)\n",
            "\n",
            "\n",
            "\n",
            "epoch: 6\n",
            "epoch:6.... batch:1...loss:0.6249\n",
            "epoch:6.... batch:501...loss:235.1991\n",
            "epoch:6.... batch:1001...loss:470.4262\n",
            "epoch:6.... batch:1501...loss:712.4379\n",
            "\n",
            ">>>lr: 0.002346687\n",
            "\n",
            "Train set: \t\t Accuracy: 41773/50000 (83.546000%)\n",
            "\n",
            "Test set: Average loss: 0.0154, Accuracy: 8303/10000 (83.030000%)\n",
            "\n",
            "\n",
            "\n",
            "epoch: 7\n",
            "epoch:7.... batch:1...loss:0.5354\n",
            "epoch:7.... batch:501...loss:215.9567\n",
            "epoch:7.... batch:1001...loss:422.2664\n",
            "epoch:7.... batch:1501...loss:636.6854\n",
            "\n",
            ">>>lr: 0.001358731773\n",
            "\n",
            "Train set: \t\t Accuracy: 42706/50000 (85.412000%)\n",
            "\n",
            "Test set: Average loss: 0.0142, Accuracy: 8417/10000 (84.170000%)\n",
            "\n",
            "\n",
            "\n",
            "epoch: 8\n",
            "epoch:8.... batch:1...loss:0.4352\n",
            "epoch:8.... batch:501...loss:204.6539\n",
            "epoch:8.... batch:1001...loss:413.7589\n",
            "epoch:8.... batch:1501...loss:615.9316\n",
            "\n",
            ">>>lr: 0.001358731773\n",
            "\n",
            "Train set: \t\t Accuracy: 42930/50000 (85.860000%)\n",
            "\n",
            "Test set: Average loss: 0.0144, Accuracy: 8435/10000 (84.350000%)\n",
            "\n",
            "\n",
            "\n",
            "epoch: 9\n",
            "epoch:9.... batch:1...loss:0.5665\n",
            "epoch:9.... batch:501...loss:180.7650\n",
            "epoch:9.... batch:1001...loss:368.9405\n",
            "epoch:9.... batch:1501...loss:557.5663\n",
            "\n",
            ">>>lr: 0.0007867056965669999\n",
            "\n",
            "Train set: \t\t Accuracy: 43596/50000 (87.192000%)\n",
            "\n",
            "Test set: Average loss: 0.0139, Accuracy: 8493/10000 (84.930000%)\n",
            "\n",
            "\n",
            "\n",
            "epoch: 10\n",
            "epoch:10.... batch:1...loss:0.4145\n",
            "epoch:10.... batch:501...loss:180.0569\n",
            "epoch:10.... batch:1001...loss:354.1066\n",
            "epoch:10.... batch:1501...loss:532.6242\n",
            "\n",
            ">>>lr: 0.0007867056965669999\n",
            "\n",
            "Train set: \t\t Accuracy: 43890/50000 (87.780000%)\n",
            "\n",
            "Test set: Average loss: 0.0139, Accuracy: 8514/10000 (85.140000%)\n",
            "\n",
            "\n",
            "\n",
            "epoch: 11\n",
            "epoch:11.... batch:1...loss:0.3236\n",
            "epoch:11.... batch:501...loss:166.5528\n",
            "epoch:11.... batch:1001...loss:330.6631\n",
            "epoch:11.... batch:1501...loss:494.7468\n",
            "\n",
            ">>>lr: 0.00045550259831229293\n",
            "\n",
            "Train set: \t\t Accuracy: 44319/50000 (88.638000%)\n",
            "\n",
            "Test set: Average loss: 0.0135, Accuracy: 8548/10000 (85.480000%)\n",
            "\n",
            "\n",
            "\n",
            "epoch: 12\n",
            "epoch:12.... batch:1...loss:0.3088\n",
            "epoch:12.... batch:501...loss:158.0542\n",
            "epoch:12.... batch:1001...loss:320.4689\n",
            "epoch:12.... batch:1501...loss:484.2947\n",
            "\n",
            ">>>lr: 0.00045550259831229293\n",
            "\n",
            "Train set: \t\t Accuracy: 44367/50000 (88.734000%)\n",
            "\n",
            "Test set: Average loss: 0.0133, Accuracy: 8581/10000 (85.810000%)\n",
            "\n",
            "\n",
            "\n",
            "epoch: 13\n",
            "epoch:13.... batch:1...loss:0.3779\n",
            "epoch:13.... batch:501...loss:155.3184\n",
            "epoch:13.... batch:1001...loss:311.8270\n",
            "epoch:13.... batch:1501...loss:464.6107\n",
            "\n",
            ">>>lr: 0.00026373600442281756\n",
            "\n",
            "Train set: \t\t Accuracy: 44744/50000 (89.488000%)\n",
            "\n",
            "Test set: Average loss: 0.0130, Accuracy: 8611/10000 (86.110000%)\n",
            "\n",
            "\n",
            "\n",
            "epoch: 14\n",
            "epoch:14.... batch:1...loss:0.2064\n",
            "epoch:14.... batch:501...loss:149.5872\n",
            "epoch:14.... batch:1001...loss:301.9079\n",
            "epoch:14.... batch:1501...loss:454.4172\n",
            "\n",
            ">>>lr: 0.00026373600442281756\n",
            "\n",
            "Train set: \t\t Accuracy: 44822/50000 (89.644000%)\n",
            "\n",
            "Test set: Average loss: 0.0129, Accuracy: 8616/10000 (86.160000%)\n",
            "\n",
            "\n",
            "\n",
            "epoch: 15\n",
            "epoch:15.... batch:1...loss:0.3591\n",
            "epoch:15.... batch:501...loss:144.9441\n",
            "epoch:15.... batch:1001...loss:292.4760\n",
            "epoch:15.... batch:1501...loss:435.4656\n",
            "\n",
            ">>>lr: 0.00015270314656081136\n",
            "\n",
            "Train set: \t\t Accuracy: 45085/50000 (90.170000%)\n",
            "\n",
            "Test set: Average loss: 0.0128, Accuracy: 8632/10000 (86.320000%)\n",
            "\n",
            "\n",
            "\n",
            "Time taken for:L2+BN = 601.307\n"
          ],
          "name": "stdout"
        }
      ]
    },
    {
      "cell_type": "code",
      "metadata": {
        "id": "MUjYAmtfeUtY",
        "colab_type": "code",
        "colab": {}
      },
      "source": [
        ""
      ],
      "execution_count": null,
      "outputs": []
    }
  ]
}